{
 "cells": [
  {
   "cell_type": "code",
   "execution_count": null,
   "metadata": {
    "colab": {
     "base_uri": "https://localhost:8080/"
    },
    "id": "9nMHIp-V6L2b",
    "outputId": "bbcd3781-6dcf-4121-d4ee-60bcf8fa29dc"
   },
   "outputs": [
    {
     "name": "stdout",
     "output_type": "stream",
     "text": [
      "Preprocessing complete! Results saved to 'lemmatized_final_train.csv'.\n"
     ]
    },
    {
     "name": "stderr",
     "output_type": "stream",
     "text": [
      "[nltk_data] Downloading package stopwords to /root/nltk_data...\n",
      "[nltk_data]   Package stopwords is already up-to-date!\n",
      "[nltk_data] Downloading package punkt to /root/nltk_data...\n",
      "[nltk_data]   Package punkt is already up-to-date!\n",
      "[nltk_data] Downloading package wordnet to /root/nltk_data...\n",
      "[nltk_data]   Package wordnet is already up-to-date!\n",
      "[nltk_data] Downloading package omw-1.4 to /root/nltk_data...\n",
      "[nltk_data]   Package omw-1.4 is already up-to-date!\n"
     ]
    }
   ],
   "source": [
    "import re\n",
    "import pandas as pd\n",
    "from nltk.tokenize import word_tokenize\n",
    "from nltk.corpus import stopwords\n",
    "from nltk.stem import WordNetLemmatizer\n",
    "import nltk\n",
    "\n",
    "nltk.download('stopwords')\n",
    "nltk.download('punkt')\n",
    "nltk.download('wordnet')\n",
    "nltk.download('omw-1.4')\n",
    "\n",
    "df = pd.read_csv(\"/content/final_train.csv\")\n",
    "\n",
    "lemmatizer = WordNetLemmatizer()\n",
    "stop_words = set(stopwords.words('english'))\n",
    "\n",
    "def preprocess_text(text):\n",
    "    if isinstance(text, str):\n",
    "        text = text.lower()\n",
    "        text = re.sub(r'[^a-z\\s]', '', text)\n",
    "        words = word_tokenize(text)\n",
    "        words = [lemmatizer.lemmatize(word) for word in words if word not in stop_words]\n",
    "        return ' '.join(words)\n",
    "    else:\n",
    "        return ''\n",
    "\n",
    "df['cleaned_post_body'] = df['Post Body'].apply(preprocess_text)\n",
    "df.to_csv('lemmatized_final_train.csv', index=False)\n",
    "\n",
    "print(\"Preprocessing complete! Results saved to 'lemmatized_final_train.csv'.\")"
   ]
  },
  {
   "cell_type": "code",
   "execution_count": null,
   "metadata": {
    "colab": {
     "base_uri": "https://localhost:8080/"
    },
    "id": "iZXrHwwZDPEl",
    "outputId": "cfdc7351-4bce-4118-8c1b-bfc717580ee5"
   },
   "outputs": [
    {
     "name": "stderr",
     "output_type": "stream",
     "text": [
      "Some weights of BertForSequenceClassification were not initialized from the model checkpoint at bert-base-uncased and are newly initialized: ['classifier.bias', 'classifier.weight']\n",
      "You should probably TRAIN this model on a down-stream task to be able to use it for predictions and inference.\n",
      "/usr/local/lib/python3.10/dist-packages/transformers/tokenization_utils_base.py:1601: FutureWarning: `clean_up_tokenization_spaces` was not set. It will be set to `True` by default. This behavior will be depracted in transformers v4.45, and will be then set to `False` by default. For more details check this issue: https://github.com/huggingface/transformers/issues/31884\n",
      "  warnings.warn(\n",
      "Some weights of RobertaForSequenceClassification were not initialized from the model checkpoint at roberta-base and are newly initialized: ['classifier.dense.bias', 'classifier.dense.weight', 'classifier.out_proj.bias', 'classifier.out_proj.weight']\n",
      "You should probably TRAIN this model on a down-stream task to be able to use it for predictions and inference.\n"
     ]
    },
    {
     "name": "stdout",
     "output_type": "stream",
     "text": [
      "bert-base-uncased accuracy: 0.9444\n",
      "roberta-base accuracy: 0.9444\n",
      "distilbert-base-uncased-finetuned-sst-2-english accuracy: 0.6889\n",
      "\n",
      "Best model: bert-base-uncased with accuracy 0.9444\n"
     ]
    }
   ],
   "source": [
    "import pandas as pd\n",
    "from transformers import pipeline\n",
    "\n",
    "df = pd.read_csv('lemmatized_final_train.csv')\n",
    "\n",
    "if 'label' not in df.columns:\n",
    "    df['label'] = df['cleaned_post_body'].apply(lambda x: 'positive' if isinstance(x, str) and 'good' in x else 'negative')\n",
    "\n",
    "models = {\n",
    "    \"bert-base-uncased\": \"BERT\",\n",
    "    \"roberta-base\": \"RoBERTa\",\n",
    "    \"distilbert-base-uncased-finetuned-sst-2-english\": \"DistilBERT\"\n",
    "}\n",
    "\n",
    "accuracy_results = {}\n",
    "\n",
    "for model_name in models:\n",
    "    classifier = pipeline(\"sentiment-analysis\", model=model_name)\n",
    "    filtered_df = df[df['cleaned_post_body'].apply(lambda x: isinstance(x, str) and len(x) > 0)]\n",
    "    predictions = classifier(filtered_df['cleaned_post_body'].tolist())\n",
    "    pred_labels = [1 if pred['label'] == 'POSITIVE' else 0 for pred in predictions]\n",
    "    true_labels = filtered_df['label'].apply(lambda x: 1 if x == 'positive' else 0).tolist()\n",
    "    correct = sum(true == pred for true, pred in zip(true_labels, pred_labels))\n",
    "    accuracy = correct / len(true_labels) if len(true_labels) > 0 else 0\n",
    "    accuracy_results[model_name] = accuracy\n",
    "    print(f\"{model_name} accuracy: {accuracy:.4f}\")\n",
    "\n",
    "best_model = max(accuracy_results, key=accuracy_results.get)\n",
    "print(f\"\\nBest model: {best_model} with accuracy {accuracy_results[best_model]:.4f}\")\n"
   ]
  },
  {
   "cell_type": "code",
   "execution_count": null,
   "metadata": {
    "colab": {
     "base_uri": "https://localhost:8080/"
    },
    "id": "-ECoApjgGvLd",
    "outputId": "d08c13d2-170f-46fb-c2dc-2fd364525a0f"
   },
   "outputs": [
    {
     "name": "stderr",
     "output_type": "stream",
     "text": [
      "Some weights of BertForSequenceClassification were not initialized from the model checkpoint at bert-base-uncased and are newly initialized: ['classifier.bias', 'classifier.weight']\n",
      "You should probably TRAIN this model on a down-stream task to be able to use it for predictions and inference.\n",
      "/usr/local/lib/python3.10/dist-packages/transformers/tokenization_utils_base.py:1601: FutureWarning: `clean_up_tokenization_spaces` was not set. It will be set to `True` by default. This behavior will be depracted in transformers v4.45, and will be then set to `False` by default. For more details check this issue: https://github.com/huggingface/transformers/issues/31884\n",
      "  warnings.warn(\n"
     ]
    },
    {
     "name": "stdout",
     "output_type": "stream",
     "text": [
      "Sentiment analysis complete! Results saved to 'bert_sentiment_results.csv'.\n"
     ]
    }
   ],
   "source": [
    "import pandas as pd\n",
    "from transformers import pipeline\n",
    "\n",
    "df = pd.read_csv('lemmatized_final_train.csv')\n",
    "\n",
    "classifier = pipeline('sentiment-analysis', model=\"bert-base-uncased\")\n",
    "\n",
    "df['sentiment'] = df['cleaned_post_body'].apply(lambda x: classifier(x)[0]['label'] if isinstance(x, str) and x else None)\n",
    "\n",
    "df.to_csv('bert_sentiment_results.csv', index=False)\n",
    "\n",
    "print(\"Sentiment analysis complete! Results saved to 'bert_sentiment_results.csv'.\")"
   ]
  }
 ],
 "metadata": {
  "colab": {
   "provenance": []
  },
  "kernelspec": {
   "display_name": "Python 3",
   "name": "python3"
  },
  "language_info": {
   "name": "python"
  }
 },
 "nbformat": 4,
 "nbformat_minor": 0
}
